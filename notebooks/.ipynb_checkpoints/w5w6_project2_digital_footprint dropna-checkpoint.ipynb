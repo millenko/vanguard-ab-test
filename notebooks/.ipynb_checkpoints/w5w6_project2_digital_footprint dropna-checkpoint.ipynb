{
 "cells": [
  {
   "cell_type": "markdown",
   "id": "c6cd06fd-a04d-43ba-bb06-2d21b0ee90ff",
   "metadata": {},
   "source": [
    "# 3. Success indicators\n",
    "\n",
    "- **3.1. Test group:**\n",
    "  - **3.1.1. Completion rate:** The proportion of users who reach the final ‘confirm’ step.\n",
    "  - **3.1.2. Time spent on each step:** The average duration users spend on each step.\n",
    "  - **3.1.3. Error rates:** Steps where users go back to a previous step.\n",
    "\n",
    "\\\n",
    "- **3.2. Control group:**\n",
    "  - **3.2.1. Completion rate**\n",
    "  - **3.2.2. Time spent on each step**\n",
    "  - **3.2.3. Error rates**\n",
    "\n",
    "\\\n",
    "- **3.3. Redesign outcome:** Given the 3 KPIs, how the new design’s performance compare to the old one?"
   ]
  },
  {
   "cell_type": "code",
   "execution_count": 1,
   "id": "61fdc191-3ca0-416d-b046-10dc7236147d",
   "metadata": {},
   "outputs": [],
   "source": [
    "import pandas as pd\n",
    "import matplotlib.pyplot as plt\n",
    "import seaborn as sns\n",
    "import numpy as np\n",
    "from IPython.display import display, HTML\n",
    "\n",
    "%matplotlib inline"
   ]
  },
  {
   "cell_type": "code",
   "execution_count": 2,
   "id": "a456a96a-77dc-4597-8bf8-0fd4a4bd5668",
   "metadata": {},
   "outputs": [],
   "source": [
    "# Load the dataset, concatenate the 2-part digital_footprint file.\n",
    "df_digital_footprint_1 = pd.read_csv(\"/Users/milenko/My Drive (1307mile@gmail.com)/bootcamp/w5/w5w6_project2/data/df_final_web_data_pt_1.txt\")\n",
    "df_digital_footprint_2 = pd.read_csv(\"/Users/milenko/My Drive (1307mile@gmail.com)/bootcamp/w5/w5w6_project2/data/df_final_web_data_pt_2.txt\")\n",
    "df_digital_footprint = pd.concat([df_digital_footprint_1, df_digital_footprint_2], axis=0, ignore_index=True)\n",
    "\n",
    "df_experiment_roster = pd.read_csv(\"/Users/milenko/My Drive (1307mile@gmail.com)/bootcamp/w5/w5w6_project2/data/df_final_experiment_clients.txt\")"
   ]
  },
  {
   "cell_type": "code",
   "execution_count": 3,
   "id": "6da0eb0d-e7ee-49da-912d-6e59f8589b46",
   "metadata": {},
   "outputs": [
    {
     "data": {
      "text/html": [
       "<div>\n",
       "<style scoped>\n",
       "    .dataframe tbody tr th:only-of-type {\n",
       "        vertical-align: middle;\n",
       "    }\n",
       "\n",
       "    .dataframe tbody tr th {\n",
       "        vertical-align: top;\n",
       "    }\n",
       "\n",
       "    .dataframe thead th {\n",
       "        text-align: right;\n",
       "    }\n",
       "</style>\n",
       "<table border=\"1\" class=\"dataframe\">\n",
       "  <thead>\n",
       "    <tr style=\"text-align: right;\">\n",
       "      <th></th>\n",
       "      <th>client_id</th>\n",
       "      <th>visitor_id</th>\n",
       "      <th>visit_id</th>\n",
       "      <th>process_step</th>\n",
       "      <th>date_time</th>\n",
       "    </tr>\n",
       "  </thead>\n",
       "  <tbody>\n",
       "    <tr>\n",
       "      <th>0</th>\n",
       "      <td>9988021</td>\n",
       "      <td>580560515_7732621733</td>\n",
       "      <td>781255054_21935453173_531117</td>\n",
       "      <td>step_3</td>\n",
       "      <td>2017-04-17 15:27:07</td>\n",
       "    </tr>\n",
       "    <tr>\n",
       "      <th>1</th>\n",
       "      <td>9988021</td>\n",
       "      <td>580560515_7732621733</td>\n",
       "      <td>781255054_21935453173_531117</td>\n",
       "      <td>step_2</td>\n",
       "      <td>2017-04-17 15:26:51</td>\n",
       "    </tr>\n",
       "    <tr>\n",
       "      <th>2</th>\n",
       "      <td>9988021</td>\n",
       "      <td>580560515_7732621733</td>\n",
       "      <td>781255054_21935453173_531117</td>\n",
       "      <td>step_3</td>\n",
       "      <td>2017-04-17 15:19:22</td>\n",
       "    </tr>\n",
       "    <tr>\n",
       "      <th>3</th>\n",
       "      <td>9988021</td>\n",
       "      <td>580560515_7732621733</td>\n",
       "      <td>781255054_21935453173_531117</td>\n",
       "      <td>step_2</td>\n",
       "      <td>2017-04-17 15:19:13</td>\n",
       "    </tr>\n",
       "    <tr>\n",
       "      <th>4</th>\n",
       "      <td>9988021</td>\n",
       "      <td>580560515_7732621733</td>\n",
       "      <td>781255054_21935453173_531117</td>\n",
       "      <td>step_3</td>\n",
       "      <td>2017-04-17 15:18:04</td>\n",
       "    </tr>\n",
       "    <tr>\n",
       "      <th>...</th>\n",
       "      <td>...</td>\n",
       "      <td>...</td>\n",
       "      <td>...</td>\n",
       "      <td>...</td>\n",
       "      <td>...</td>\n",
       "    </tr>\n",
       "    <tr>\n",
       "      <th>755400</th>\n",
       "      <td>9668240</td>\n",
       "      <td>388766751_9038881013</td>\n",
       "      <td>922267647_3096648104_968866</td>\n",
       "      <td>start</td>\n",
       "      <td>2017-05-24 18:46:10</td>\n",
       "    </tr>\n",
       "    <tr>\n",
       "      <th>755401</th>\n",
       "      <td>9668240</td>\n",
       "      <td>388766751_9038881013</td>\n",
       "      <td>922267647_3096648104_968866</td>\n",
       "      <td>start</td>\n",
       "      <td>2017-05-24 18:45:29</td>\n",
       "    </tr>\n",
       "    <tr>\n",
       "      <th>755402</th>\n",
       "      <td>9668240</td>\n",
       "      <td>388766751_9038881013</td>\n",
       "      <td>922267647_3096648104_968866</td>\n",
       "      <td>step_1</td>\n",
       "      <td>2017-05-24 18:44:51</td>\n",
       "    </tr>\n",
       "    <tr>\n",
       "      <th>755403</th>\n",
       "      <td>9668240</td>\n",
       "      <td>388766751_9038881013</td>\n",
       "      <td>922267647_3096648104_968866</td>\n",
       "      <td>start</td>\n",
       "      <td>2017-05-24 18:44:34</td>\n",
       "    </tr>\n",
       "    <tr>\n",
       "      <th>755404</th>\n",
       "      <td>674799</td>\n",
       "      <td>947159805_81558194550</td>\n",
       "      <td>86152093_47511127657_716022</td>\n",
       "      <td>start</td>\n",
       "      <td>2017-06-03 12:17:09</td>\n",
       "    </tr>\n",
       "  </tbody>\n",
       "</table>\n",
       "<p>755405 rows × 5 columns</p>\n",
       "</div>"
      ],
      "text/plain": [
       "        client_id             visitor_id                      visit_id  \\\n",
       "0         9988021   580560515_7732621733  781255054_21935453173_531117   \n",
       "1         9988021   580560515_7732621733  781255054_21935453173_531117   \n",
       "2         9988021   580560515_7732621733  781255054_21935453173_531117   \n",
       "3         9988021   580560515_7732621733  781255054_21935453173_531117   \n",
       "4         9988021   580560515_7732621733  781255054_21935453173_531117   \n",
       "...           ...                    ...                           ...   \n",
       "755400    9668240   388766751_9038881013   922267647_3096648104_968866   \n",
       "755401    9668240   388766751_9038881013   922267647_3096648104_968866   \n",
       "755402    9668240   388766751_9038881013   922267647_3096648104_968866   \n",
       "755403    9668240   388766751_9038881013   922267647_3096648104_968866   \n",
       "755404     674799  947159805_81558194550   86152093_47511127657_716022   \n",
       "\n",
       "       process_step            date_time  \n",
       "0            step_3  2017-04-17 15:27:07  \n",
       "1            step_2  2017-04-17 15:26:51  \n",
       "2            step_3  2017-04-17 15:19:22  \n",
       "3            step_2  2017-04-17 15:19:13  \n",
       "4            step_3  2017-04-17 15:18:04  \n",
       "...             ...                  ...  \n",
       "755400        start  2017-05-24 18:46:10  \n",
       "755401        start  2017-05-24 18:45:29  \n",
       "755402       step_1  2017-05-24 18:44:51  \n",
       "755403        start  2017-05-24 18:44:34  \n",
       "755404        start  2017-06-03 12:17:09  \n",
       "\n",
       "[755405 rows x 5 columns]"
      ]
     },
     "execution_count": 3,
     "metadata": {},
     "output_type": "execute_result"
    }
   ],
   "source": [
    "df_digital_footprint"
   ]
  },
  {
   "cell_type": "code",
   "execution_count": 4,
   "id": "cc399e2f-6878-4dca-b90a-94d247153377",
   "metadata": {},
   "outputs": [
    {
     "data": {
      "text/html": [
       "<div>\n",
       "<style scoped>\n",
       "    .dataframe tbody tr th:only-of-type {\n",
       "        vertical-align: middle;\n",
       "    }\n",
       "\n",
       "    .dataframe tbody tr th {\n",
       "        vertical-align: top;\n",
       "    }\n",
       "\n",
       "    .dataframe thead th {\n",
       "        text-align: right;\n",
       "    }\n",
       "</style>\n",
       "<table border=\"1\" class=\"dataframe\">\n",
       "  <thead>\n",
       "    <tr style=\"text-align: right;\">\n",
       "      <th></th>\n",
       "      <th>client_id</th>\n",
       "      <th>Variation</th>\n",
       "    </tr>\n",
       "  </thead>\n",
       "  <tbody>\n",
       "    <tr>\n",
       "      <th>0</th>\n",
       "      <td>9988021</td>\n",
       "      <td>Test</td>\n",
       "    </tr>\n",
       "    <tr>\n",
       "      <th>1</th>\n",
       "      <td>8320017</td>\n",
       "      <td>Test</td>\n",
       "    </tr>\n",
       "    <tr>\n",
       "      <th>2</th>\n",
       "      <td>4033851</td>\n",
       "      <td>Control</td>\n",
       "    </tr>\n",
       "    <tr>\n",
       "      <th>3</th>\n",
       "      <td>1982004</td>\n",
       "      <td>Test</td>\n",
       "    </tr>\n",
       "    <tr>\n",
       "      <th>4</th>\n",
       "      <td>9294070</td>\n",
       "      <td>Control</td>\n",
       "    </tr>\n",
       "    <tr>\n",
       "      <th>...</th>\n",
       "      <td>...</td>\n",
       "      <td>...</td>\n",
       "    </tr>\n",
       "    <tr>\n",
       "      <th>70604</th>\n",
       "      <td>2443347</td>\n",
       "      <td>NaN</td>\n",
       "    </tr>\n",
       "    <tr>\n",
       "      <th>70605</th>\n",
       "      <td>8788427</td>\n",
       "      <td>NaN</td>\n",
       "    </tr>\n",
       "    <tr>\n",
       "      <th>70606</th>\n",
       "      <td>266828</td>\n",
       "      <td>NaN</td>\n",
       "    </tr>\n",
       "    <tr>\n",
       "      <th>70607</th>\n",
       "      <td>1266421</td>\n",
       "      <td>NaN</td>\n",
       "    </tr>\n",
       "    <tr>\n",
       "      <th>70608</th>\n",
       "      <td>9895983</td>\n",
       "      <td>NaN</td>\n",
       "    </tr>\n",
       "  </tbody>\n",
       "</table>\n",
       "<p>70609 rows × 2 columns</p>\n",
       "</div>"
      ],
      "text/plain": [
       "       client_id Variation\n",
       "0        9988021      Test\n",
       "1        8320017      Test\n",
       "2        4033851   Control\n",
       "3        1982004      Test\n",
       "4        9294070   Control\n",
       "...          ...       ...\n",
       "70604    2443347       NaN\n",
       "70605    8788427       NaN\n",
       "70606     266828       NaN\n",
       "70607    1266421       NaN\n",
       "70608    9895983       NaN\n",
       "\n",
       "[70609 rows x 2 columns]"
      ]
     },
     "execution_count": 4,
     "metadata": {},
     "output_type": "execute_result"
    }
   ],
   "source": [
    "df_experiment_roster"
   ]
  },
  {
   "cell_type": "markdown",
   "id": "8eaf8142-970e-4889-8abc-d20c6211e7f7",
   "metadata": {},
   "source": [
    "# Dataset exploration"
   ]
  },
  {
   "cell_type": "code",
   "execution_count": 5,
   "id": "ed1627aa-5371-48d2-977a-e448d715afea",
   "metadata": {},
   "outputs": [
    {
     "data": {
      "text/html": [
       "<div>\n",
       "<style scoped>\n",
       "    .dataframe tbody tr th:only-of-type {\n",
       "        vertical-align: middle;\n",
       "    }\n",
       "\n",
       "    .dataframe tbody tr th {\n",
       "        vertical-align: top;\n",
       "    }\n",
       "\n",
       "    .dataframe thead th {\n",
       "        text-align: right;\n",
       "    }\n",
       "</style>\n",
       "<table border=\"1\" class=\"dataframe\">\n",
       "  <thead>\n",
       "    <tr style=\"text-align: right;\">\n",
       "      <th></th>\n",
       "      <th>visitor_id</th>\n",
       "      <th>visit_id</th>\n",
       "      <th>process_step</th>\n",
       "      <th>date_time</th>\n",
       "    </tr>\n",
       "  </thead>\n",
       "  <tbody>\n",
       "    <tr>\n",
       "      <th>count</th>\n",
       "      <td>755405</td>\n",
       "      <td>755405</td>\n",
       "      <td>755405</td>\n",
       "      <td>755405</td>\n",
       "    </tr>\n",
       "    <tr>\n",
       "      <th>unique</th>\n",
       "      <td>130236</td>\n",
       "      <td>158095</td>\n",
       "      <td>5</td>\n",
       "      <td>629363</td>\n",
       "    </tr>\n",
       "    <tr>\n",
       "      <th>top</th>\n",
       "      <td>722943003_3441581446</td>\n",
       "      <td>875138661_34710212496_881092</td>\n",
       "      <td>start</td>\n",
       "      <td>2017-05-02 10:07:41</td>\n",
       "    </tr>\n",
       "    <tr>\n",
       "      <th>freq</th>\n",
       "      <td>104</td>\n",
       "      <td>104</td>\n",
       "      <td>243945</td>\n",
       "      <td>24</td>\n",
       "    </tr>\n",
       "  </tbody>\n",
       "</table>\n",
       "</div>"
      ],
      "text/plain": [
       "                  visitor_id                      visit_id process_step  \\\n",
       "count                 755405                        755405       755405   \n",
       "unique                130236                        158095            5   \n",
       "top     722943003_3441581446  875138661_34710212496_881092        start   \n",
       "freq                     104                           104       243945   \n",
       "\n",
       "                  date_time  \n",
       "count                755405  \n",
       "unique               629363  \n",
       "top     2017-05-02 10:07:41  \n",
       "freq                     24  "
      ]
     },
     "execution_count": 5,
     "metadata": {},
     "output_type": "execute_result"
    }
   ],
   "source": [
    "df_digital_footprint.describe(include='object')"
   ]
  },
  {
   "cell_type": "code",
   "execution_count": 6,
   "id": "7edf6ae1-4e05-4048-aec7-66b8207bb17b",
   "metadata": {},
   "outputs": [
    {
     "data": {
      "text/plain": [
       "client_id       120157\n",
       "visitor_id      130236\n",
       "visit_id        158095\n",
       "process_step         5\n",
       "date_time       629363\n",
       "dtype: int64"
      ]
     },
     "execution_count": 6,
     "metadata": {},
     "output_type": "execute_result"
    }
   ],
   "source": [
    "df_digital_footprint.nunique()"
   ]
  },
  {
   "cell_type": "code",
   "execution_count": 7,
   "id": "aaf94c25-373d-4cd2-8426-715c9c5534a9",
   "metadata": {},
   "outputs": [
    {
     "data": {
      "text/plain": [
       "client_id       0\n",
       "visitor_id      0\n",
       "visit_id        0\n",
       "process_step    0\n",
       "date_time       0\n",
       "dtype: int64"
      ]
     },
     "execution_count": 7,
     "metadata": {},
     "output_type": "execute_result"
    }
   ],
   "source": [
    "# 0 null values.\n",
    "df_digital_footprint.isnull().sum()"
   ]
  },
  {
   "cell_type": "code",
   "execution_count": 8,
   "id": "346e8b22-9213-4d07-b749-6c721142b4c0",
   "metadata": {},
   "outputs": [],
   "source": [
    "# Experiment group is unknown for 20109 users. Drop those.\n",
    "df_experiment_roster.isnull().sum()\n",
    "df_experiment_roster = df_experiment_roster.dropna(thresh=2)"
   ]
  },
  {
   "cell_type": "code",
   "execution_count": 9,
   "id": "eab4586d-68e9-419f-bf61-333be4dffc29",
   "metadata": {},
   "outputs": [
    {
     "data": {
      "text/plain": [
       "True"
      ]
     },
     "metadata": {},
     "output_type": "display_data"
    },
    {
     "data": {
      "text/plain": [
       "10764"
      ]
     },
     "metadata": {},
     "output_type": "display_data"
    }
   ],
   "source": [
    "# 10764 duplicated rows. Will not drop them.\n",
    "display(df_digital_footprint.duplicated().any())\n",
    "display(df_digital_footprint.duplicated().sum())"
   ]
  },
  {
   "cell_type": "code",
   "execution_count": null,
   "id": "3bdeab9f-33b2-480f-b332-970d301d996b",
   "metadata": {},
   "outputs": [],
   "source": [
    "# Cast 'date_time' as datetime type.\n",
    "df_digital_footprint.info()"
   ]
  },
  {
   "cell_type": "code",
   "execution_count": null,
   "id": "eb09cd23-aa8a-4d94-aae6-9cc9834ff569",
   "metadata": {},
   "outputs": [],
   "source": [
    "df_digital_footprint['date_time'] = pd.to_datetime(df_digital_footprint['date_time'])"
   ]
  },
  {
   "cell_type": "code",
   "execution_count": null,
   "id": "61febb1e-ba9d-4d43-b801-e0452ad65831",
   "metadata": {},
   "outputs": [],
   "source": [
    "# Merge df_experiment_roster with df_digital_footprint to distinguish the groups.\n",
    "df_digital_footprint = pd.merge(df_digital_footprint, df_experiment_roster, on='client_id')"
   ]
  },
  {
   "cell_type": "code",
   "execution_count": null,
   "id": "4e475aa4-7a6b-4b39-a517-f2af2764c540",
   "metadata": {},
   "outputs": [],
   "source": [
    "# The merge introduces change in duplicates.\n",
    "df_digital_footprint.duplicated().sum()"
   ]
  },
  {
   "cell_type": "code",
   "execution_count": null,
   "id": "c5d6977a-1b46-4bdb-98bc-d985d33cf2a5",
   "metadata": {},
   "outputs": [],
   "source": [
    "# Rename 'Variation' to 'experiment_group' for consistency.\n",
    "df_digital_footprint = df_digital_footprint.rename(columns= {'Variation': 'experiment_group'})"
   ]
  },
  {
   "cell_type": "markdown",
   "id": "8bd98978-1e26-4c31-9366-fa8ed310f710",
   "metadata": {
    "jp-MarkdownHeadingCollapsed": true
   },
   "source": [
    "# 3.1. Test group: success indicators"
   ]
  },
  {
   "cell_type": "markdown",
   "id": "62643e7f-1e2d-40ec-b05a-18b0d643c0e5",
   "metadata": {
    "jp-MarkdownHeadingCollapsed": true
   },
   "source": [
    "## 3.1.1. completion rate"
   ]
  },
  {
   "cell_type": "code",
   "execution_count": null,
   "id": "3c6e19d1-6e15-4968-a371-1b12f731cd7d",
   "metadata": {},
   "outputs": [],
   "source": [
    "# Filter for the Test group to measure the proportion of users who reach the final 'confirm' step\n",
    "df_test_group = df_digital_footprint[df_digital_footprint['experiment_group'] == 'Test']\n",
    "\n",
    "df_test_confirm = (df_test_group['process_step'] == 'confirm').sum() / len(df_test_group)\n",
    "print(\"The proportion of Test group reaching the final 'confirm' step is: \", f\"{df_test_confirm:.2%}\")"
   ]
  },
  {
   "cell_type": "code",
   "execution_count": null,
   "id": "a2c223cd-90a2-43a7-8b0b-95d38aba7914",
   "metadata": {},
   "outputs": [],
   "source": [
    "# How this compares to other steps?\n",
    "steps = df_digital_footprint['process_step'].unique()\n",
    "steps\n",
    "\n",
    "for step in steps:\n",
    "    proportion = (df_test_group['process_step'] == step).sum() / len(df_test_group)\n",
    "    print(f\"{step}: {proportion:.2%}\")"
   ]
  },
  {
   "cell_type": "markdown",
   "id": "ca3f1e8c-af8f-49c9-8257-c1f03a98f209",
   "metadata": {
    "jp-MarkdownHeadingCollapsed": true
   },
   "source": [
    "## 3.1.2. time spent on each step"
   ]
  },
  {
   "cell_type": "code",
   "execution_count": null,
   "id": "1a86da75-af01-49ef-94da-422c9114cb88",
   "metadata": {},
   "outputs": [],
   "source": [
    "# Initialize a dictionary to store mean duration strings for the Test group\n",
    "test_durations = {}\n",
    "\n",
    "# Define pairs of steps to calculate the transition duration between\n",
    "step_pairs = [\n",
    "    ('start', 'step_1'),\n",
    "    ('step_1', 'step_2'),\n",
    "    ('step_2', 'step_3'),\n",
    "    ('step_3', 'confirm'),\n",
    "]\n",
    "\n",
    "# Loop over each pair of steps for the Test group\n",
    "for start_step, end_step in step_pairs:\n",
    "    # Filter for relevant steps\n",
    "    relevant_steps = df_test_group[df_test_group['process_step'].isin([start_step, end_step])]\n",
    "    \n",
    "    # Sort by visit_id and date_time to ensure chronological order\n",
    "    relevant_steps_sorted = relevant_steps.sort_values(by=['visit_id', 'date_time'])\n",
    "    \n",
    "    # Calculate the time difference between steps for each visit_id\n",
    "    relevant_steps_sorted['time_diff'] = relevant_steps_sorted.groupby('visit_id')['date_time'].diff()\n",
    "    \n",
    "    # Select end_step rows to use the calculated time differences as durations from start_step to end_step\n",
    "    end_step_durations = relevant_steps_sorted[relevant_steps_sorted['process_step'] == end_step]\n",
    "    \n",
    "    # Calculate the mean duration from start_step to end_step\n",
    "    test_mean_duration = end_step_durations['time_diff'].mean()\n",
    "    \n",
    "    # Format the mean duration string to include days, hours, minutes, and seconds\n",
    "    test_mean_duration_str = f\"{test_mean_duration.days}d {test_mean_duration.components.hours}h {test_mean_duration.components.minutes}m {test_mean_duration.components.seconds}s\"\n",
    "    \n",
    "    # Store the result in the dictionary keyed by the step pair\n",
    "    test_durations[(start_step, end_step)] = test_mean_duration_str"
   ]
  },
  {
   "cell_type": "markdown",
   "id": "5fb8cd7d-aaf6-4dd1-b30a-1a4cb84ef3cd",
   "metadata": {
    "jp-MarkdownHeadingCollapsed": true
   },
   "source": [
    "## 3.1.3. error rates"
   ]
  },
  {
   "cell_type": "code",
   "execution_count": null,
   "id": "82779d99-7d53-4038-bd83-ef7f9e6c9f16",
   "metadata": {},
   "outputs": [],
   "source": [
    "# Sort by visit_id and date_time to ensure chronological order\n",
    "df_test_group = df_test_group.sort_values(by=['client_id', 'visit_id', 'date_time'])\n",
    "\n",
    "# Assign step orders\n",
    "step_order = {'start': 0,\n",
    "               'step_1': 1,\n",
    "               'step_2': 2,\n",
    "               'step_3': 3,\n",
    "               'confirm': 4}\n",
    "\n",
    "\n",
    "# Detect backward movements\n",
    "df_test_group['step_order'] = df_test_group['process_step'].map(step_order)\n",
    "\n",
    "# Calculate the difference in step order to identify backward movements\n",
    "df_test_group['step_diff'] = df_test_group.groupby(['client_id', 'visit_id'])['step_order'].diff()\n",
    "\n",
    "# A negative step_diff indicates a backward movement\n",
    "df_test_group['is_backward'] = df_test_group['step_diff'] < 0\n",
    "\n",
    "# Proportion of sessions with at least one backward movement\n",
    "error_sessions = df_test_group[df_test_group['is_backward']].groupby(['client_id', 'visit_id']).ngroups\n",
    "total_sessions = df_test_group.groupby(['client_id', 'visit_id']).ngroups\n",
    "test_error_rate = error_sessions / total_sessions\n",
    "\n",
    "print(f\"Proportion of sessions with errors: {test_error_rate:.2%}\")\n",
    "\n",
    "# Count of backward movements by step\n",
    "errors_by_step = df_test_group[df_test_group['is_backward']]['process_step'].value_counts()\n",
    "errors_by_step"
   ]
  },
  {
   "cell_type": "markdown",
   "id": "40bc01ae-5636-4ced-ad1d-45829d589198",
   "metadata": {
    "jp-MarkdownHeadingCollapsed": true
   },
   "source": [
    "# 3.2. Control group: success indicators"
   ]
  },
  {
   "cell_type": "markdown",
   "id": "fb7e618d-f699-40bf-aa5a-758882c839a4",
   "metadata": {
    "jp-MarkdownHeadingCollapsed": true
   },
   "source": [
    "## 3.2.1. completion rate"
   ]
  },
  {
   "cell_type": "code",
   "execution_count": null,
   "id": "faa0c0be-d5fe-4e40-af69-910f983cbed9",
   "metadata": {},
   "outputs": [],
   "source": [
    "# Filter for the Control group to measure the proportion of users who reach the final 'confirm' step\n",
    "df_control_group = df_digital_footprint[df_digital_footprint['experiment_group'] == 'Control']\n",
    "\n",
    "df_control_confirm = (df_control_group['process_step'] == 'confirm').sum() / len(df_control_group)\n",
    "print(\"The proportion of Control group reaching the final 'confirm' step is: \", f\"{df_control_confirm:.2%}\")"
   ]
  },
  {
   "cell_type": "markdown",
   "id": "89c8f506-ba1a-4510-bb83-b98659c0099b",
   "metadata": {
    "jp-MarkdownHeadingCollapsed": true
   },
   "source": [
    "## 3.2.2. time spent on each step"
   ]
  },
  {
   "cell_type": "code",
   "execution_count": null,
   "id": "54294ac8-9863-4b2c-a4cf-a7751e176cd9",
   "metadata": {},
   "outputs": [],
   "source": [
    "# Initialize a dictionary to store mean duration strings for the Control group\n",
    "control_durations = {}\n",
    "\n",
    "# Define pairs of steps to calculate the transition duration between, as before\n",
    "step_pairs = [\n",
    "    ('start', 'step_1'),\n",
    "    ('step_1', 'step_2'),\n",
    "    ('step_2', 'step_3'),\n",
    "    ('step_3', 'confirm'),\n",
    "]\n",
    "\n",
    "# Loop over each pair of steps for the Control group\n",
    "for start_step, end_step in step_pairs:\n",
    "    # Filter for relevant steps\n",
    "    relevant_steps = df_control_group[df_control_group['process_step'].isin([start_step, end_step])]\n",
    "    \n",
    "    # Sort by visit_id and date_time to ensure chronological order\n",
    "    relevant_steps_sorted = relevant_steps.sort_values(by=['visit_id', 'date_time'])\n",
    "    \n",
    "    # Calculate the time difference between steps for each visit_id\n",
    "    relevant_steps_sorted['time_diff'] = relevant_steps_sorted.groupby('visit_id')['date_time'].diff()\n",
    "    \n",
    "    # Select end_step rows to use the calculated time differences as durations from start_step to end_step\n",
    "    end_step_durations = relevant_steps_sorted[relevant_steps_sorted['process_step'] == end_step]\n",
    "    \n",
    "    # Calculate the mean duration from start_step to end_step\n",
    "    control_mean_duration = end_step_durations['time_diff'].mean()\n",
    "    \n",
    "    # Format the mean duration string to include days, hours, minutes, and seconds\n",
    "    control_mean_duration_str = f\"{control_mean_duration.days}d {control_mean_duration.components.hours}h {control_mean_duration.components.minutes}m {control_mean_duration.components.seconds}s\"\n",
    "    \n",
    "    # Store the result in the dictionary keyed by the step pair\n",
    "    control_durations[(start_step, end_step)] = control_mean_duration_str"
   ]
  },
  {
   "cell_type": "markdown",
   "id": "809ad1df-9147-4bb6-9f97-f24a37067c0d",
   "metadata": {
    "jp-MarkdownHeadingCollapsed": true
   },
   "source": [
    "## 3.2.3. error rates"
   ]
  },
  {
   "cell_type": "code",
   "execution_count": null,
   "id": "1f42d3c2-609a-4ecd-b7ed-285d81b06f2d",
   "metadata": {},
   "outputs": [],
   "source": [
    "# Sort by visit_id and date_time to ensure chronological order\n",
    "df_control_group = df_control_group.sort_values(by=['client_id', 'visit_id', 'date_time'])\n",
    "\n",
    "# Assign step orders\n",
    "step_order = {'start': 0,\n",
    "               'step_1': 1,\n",
    "               'step_2': 2,\n",
    "               'step_3': 3,\n",
    "               'confirm': 4}\n",
    "\n",
    "\n",
    "# Detect backward movements\n",
    "df_control_group['step_order'] = df_control_group['process_step'].map(step_order)\n",
    "\n",
    "# Calculate the difference in step order to identify backward movements\n",
    "df_control_group['step_diff'] = df_control_group.groupby(['client_id', 'visit_id'])['step_order'].diff()\n",
    "\n",
    "# A negative step_diff indicates a backward movement\n",
    "df_control_group['is_backward'] = df_control_group['step_diff'] < 0\n",
    "\n",
    "# Proportion of sessions with at least one backward movement\n",
    "error_sessions = df_control_group[df_control_group['is_backward']].groupby(['client_id', 'visit_id']).ngroups\n",
    "total_sessions = df_control_group.groupby(['client_id', 'visit_id']).ngroups\n",
    "control_error_rate = error_sessions / total_sessions\n",
    "\n",
    "print(f\"Proportion of sessions with errors: {control_error_rate:.2%}\")\n",
    "\n",
    "# Count of backward movements by step\n",
    "errors_by_step = df_control_group[df_control_group['is_backward']]['process_step'].value_counts()\n",
    "errors_by_step"
   ]
  },
  {
   "cell_type": "markdown",
   "id": "5a03f402-93a4-41c7-8c36-8122a66dd278",
   "metadata": {},
   "source": [
    "# 3.3. Redesign outcome"
   ]
  },
  {
   "cell_type": "code",
   "execution_count": null,
   "id": "fdd696fb-3c44-48b8-97bb-9d0d59a380ab",
   "metadata": {},
   "outputs": [],
   "source": [
    "# Test group has higher completion rate\n",
    "print(\"The proportion of Test group reaching the final 'confirm' step: \", f\"{df_test_confirm:.2%}\")\n",
    "print(\"The proportion of Control group reaching the 'confirm' step is: \", f\"{df_control_confirm:.2%}\\n\")\n",
    "\n",
    "# Control group has lower average time spent between steps\n",
    "for start_step, end_step in step_pairs:\n",
    "    test_str = test_durations.get((start_step, end_step), \"No data\")\n",
    "    control_str = control_durations.get((start_step, end_step), \"No data\")\n",
    "    print(f\"Transition from '{start_step}' to '{end_step}':\")\n",
    "    print(f\"  Test group: {test_str}\")\n",
    "    print(f\"  Control group: {control_str}\\n\")\n",
    "\n",
    "# Control group has lower proportion of sessions with errors.\n",
    "print(f\"Proportion of sessions with errors: {test_error_rate:.2%}\")\n",
    "print(f\"Proportion of sessions with errors: {control_error_rate:.2%}\")"
   ]
  },
  {
   "cell_type": "markdown",
   "id": "14592707-79c8-4e19-b628-17298fcbb28b",
   "metadata": {},
   "source": [
    "dropna, inner join, results:\n",
    "\n",
    "- The proportion of Test group reaching the final 'confirm' step:  14.46%\n",
    "- The proportion of Control group reaching the 'confirm' step is:  12.20%\n",
    "\n",
    "- Transition from 'start' to 'step_1':\n",
    "  - Test group: 0d 0h 0m 49s\n",
    "  - Control group: 0d 0h 0m 51s\n",
    "\n",
    "- Transition from 'step_1' to 'step_2':\n",
    "  - Test group: 0d 0h 0m 58s\n",
    "  - Control group: 0d 0h 0m 47s\n",
    "\n",
    "- Transition from 'step_2' to 'step_3':\n",
    "  - Test group: 0d 0h 1m 39s\n",
    "  - Control group: 0d 0h 1m 33s\n",
    "\n",
    "- Transition from 'step_3' to 'confirm':\n",
    "  - Test group: 0d 0h 2m 9s\n",
    "  - Control group: 0d 0h 2m 8s\n",
    "\n",
    "- Proportion of sessions with errors: 26.81%\n",
    "- Proportion of sessions with errors: 20.30%"
   ]
  }
 ],
 "metadata": {
  "kernelspec": {
   "display_name": "Python 3 (ipykernel)",
   "language": "python",
   "name": "python3"
  },
  "language_info": {
   "codemirror_mode": {
    "name": "ipython",
    "version": 3
   },
   "file_extension": ".py",
   "mimetype": "text/x-python",
   "name": "python",
   "nbconvert_exporter": "python",
   "pygments_lexer": "ipython3",
   "version": "3.11.8"
  }
 },
 "nbformat": 4,
 "nbformat_minor": 5
}
