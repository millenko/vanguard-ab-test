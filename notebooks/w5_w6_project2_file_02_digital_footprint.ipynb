{
 "cells": [
  {
   "cell_type": "markdown",
   "id": "c6cd06fd-a04d-43ba-bb06-2d21b0ee90ff",
   "metadata": {},
   "source": [
    "# 3. Success indicators\n",
    "- **3.1. Test group, 3.2. Control group:**\n",
    "  - **3.X.1. Completion rate:** The proportion of users who reach the final ‘confirm’ step.\n",
    "  - **3.X.2. Time spent on each step:** The average duration users spend on each step.\n",
    "  - **3.X.3. Error rates:** Steps where users go back to a previous step.\n",
    "- **3.3. Redesign outcome:** Given the 3 KPIs, how the new design’s performance compare to the old one?\n",
    "\n",
    "# 4. Hypotheses testing\n",
    "- **4.1. Completion rate:** z-test\n",
    "- **4.2. Error rate:** z-test\n",
    "- **4.3. various means of attrbutes:** t-test\n",
    "\n",
    "# 5. Experiment evaluation"
   ]
  },
  {
   "cell_type": "code",
   "execution_count": null,
   "id": "61fdc191-3ca0-416d-b046-10dc7236147d",
   "metadata": {},
   "outputs": [],
   "source": [
    "import pandas as pd\n",
    "import numpy as np\n",
    "from IPython.display import display, HTML\n",
    "import scipy.stats as st\n",
    "from scipy.stats import norm\n",
    "from statsmodels.stats.proportion import proportions_ztest\n",
    "from scipy.stats import ttest_ind\n",
    "\n",
    "import matplotlib.pyplot as plt\n",
    "import seaborn as sns\n",
    "\n",
    "%matplotlib inline"
   ]
  },
  {
   "cell_type": "code",
   "execution_count": null,
   "id": "a456a96a-77dc-4597-8bf8-0fd4a4bd5668",
   "metadata": {},
   "outputs": [],
   "source": [
    "df_client_profiles = pd.read_csv(\"/Users/milenko/My Drive (1307mile@gmail.com)/bootcamp/w5/w5w6_project2/data/final/df_client_profiles_final.csv\")\n",
    "df_digital_footprint = pd.read_csv(\"/Users/milenko/My Drive (1307mile@gmail.com)/bootcamp/w5/w5w6_project2/data/final/df_digital_footprint_final.csv\")"
   ]
  },
  {
   "cell_type": "markdown",
   "id": "8eaf8142-970e-4889-8abc-d20c6211e7f7",
   "metadata": {},
   "source": [
    "# Dataset exploration"
   ]
  },
  {
   "cell_type": "code",
   "execution_count": null,
   "id": "5875308f-af1d-4451-b1f7-443efe7b01f2",
   "metadata": {},
   "outputs": [],
   "source": [
    "df_client_profiles.head()"
   ]
  },
  {
   "cell_type": "code",
   "execution_count": null,
   "id": "1cfe91a8-d497-4f8e-bfdf-54cd5d922263",
   "metadata": {},
   "outputs": [],
   "source": [
    "# Drop the 'Dummy' column from df_digital_footprint\n",
    "df_client_profiles = df_client_profiles.drop(columns=['dummy'])"
   ]
  },
  {
   "cell_type": "code",
   "execution_count": null,
   "id": "ed1627aa-5371-48d2-977a-e448d715afea",
   "metadata": {},
   "outputs": [],
   "source": [
    "df_digital_footprint.describe(include=\"all\")"
   ]
  },
  {
   "cell_type": "code",
   "execution_count": null,
   "id": "bf37c40f-dd70-4eac-a8b7-ece43631b963",
   "metadata": {},
   "outputs": [],
   "source": [
    "df_digital_footprint.info()"
   ]
  },
  {
   "cell_type": "code",
   "execution_count": null,
   "id": "3bdeab9f-33b2-480f-b332-970d301d996b",
   "metadata": {},
   "outputs": [],
   "source": [
    "# Cast \"date_time\" as datetime type.\n",
    "df_digital_footprint[\"date_time\"] = pd.to_datetime(df_digital_footprint[\"date_time\"])"
   ]
  },
  {
   "cell_type": "code",
   "execution_count": null,
   "id": "54524f22-4e49-4af6-9467-18c5cb399762",
   "metadata": {
    "scrolled": true
   },
   "outputs": [],
   "source": [
    "# Inner-joining (df_digital_footprint, df_client_profiles) to only keep the rows with known user_id.\n",
    "df_digital_footprint = pd.merge(df_digital_footprint, df_client_profiles, on=\"client_id\")\n",
    "df_digital_footprint"
   ]
  },
  {
   "cell_type": "code",
   "execution_count": null,
   "id": "40ec4265-0b06-4aeb-a50e-0d11f5ec7ea4",
   "metadata": {},
   "outputs": [],
   "source": [
    "# Drop duplicated rows. There are no null values.\n",
    "print(f\"pre-drop duplicated rows: {df_digital_footprint.duplicated().sum()}\")\n",
    "print(f\"null values: {df_digital_footprint.isna().sum().sum()}\")\n",
    "\n",
    "df_digital_footprint = df_digital_footprint.drop_duplicates()\n",
    "print(f\"post-drop duplicated rows: {df_digital_footprint.duplicated().sum()}\")"
   ]
  },
  {
   "cell_type": "markdown",
   "id": "8bd98978-1e26-4c31-9366-fa8ed310f710",
   "metadata": {},
   "source": [
    "# 3.1. Test group: success indicators"
   ]
  },
  {
   "cell_type": "markdown",
   "id": "62643e7f-1e2d-40ec-b05a-18b0d643c0e5",
   "metadata": {},
   "source": [
    "## 3.1.1. completion rate"
   ]
  },
  {
   "cell_type": "code",
   "execution_count": null,
   "id": "659a4ee4-2641-410d-80e7-9a62f47e271d",
   "metadata": {},
   "outputs": [],
   "source": [
    "df_test_group = df_digital_footprint[df_digital_footprint[\"experiment_group\"] == \"Test\"]\n",
    "\n",
    "confirm_count_test = (df_test_group[\"process_step\"] == \"confirm\").sum()\n",
    "print(f\"Number of 'confirm' steps: {confirm_count_test}\")\n",
    "\n",
    "unique_visit_count_test = df_test_group[\"visit_id\"].nunique()\n",
    "print(f\"Number of unique visit_id: {unique_visit_count_test}\")\n",
    "\n",
    "completion_rate_test = confirm_count_test / unique_visit_count_test\n",
    "print(f\"The proportion of users who reach the final ‘confirm’ step: {completion_rate_test:.2%}\")"
   ]
  },
  {
   "cell_type": "markdown",
   "id": "ca3f1e8c-af8f-49c9-8257-c1f03a98f209",
   "metadata": {},
   "source": [
    "## 3.1.2. time spent on each step"
   ]
  },
  {
   "cell_type": "code",
   "execution_count": null,
   "id": "924fe78e-0c5e-464d-a6c5-519b699e2512",
   "metadata": {},
   "outputs": [],
   "source": [
    "test_durations = {}\n",
    "test_total_duration = pd.Timedelta(0)\n",
    "\n",
    "step_pairs = [\n",
    "    (\"start\", \"step_1\"),\n",
    "    (\"step_1\", \"step_2\"),\n",
    "    (\"step_2\", \"step_3\"),\n",
    "    (\"step_3\", \"confirm\"),\n",
    "]\n",
    "\n",
    "for start_step, end_step in step_pairs:\n",
    "    \n",
    "    relevant_steps = df_test_group[df_test_group[\"process_step\"].isin([start_step, end_step])]\n",
    "    \n",
    "    relevant_steps_sorted = relevant_steps.sort_values(by=[\"visit_id\", \"date_time\"])\n",
    "    \n",
    "    # Calculate the time difference between steps for each visit_id\n",
    "    relevant_steps_sorted[\"time_diff\"] = relevant_steps_sorted.groupby(\"visit_id\")[\"date_time\"].diff()\n",
    "    \n",
    "    # Select end_step rows to use the calculated time differences as durations from start_step to end_step\n",
    "    end_step_durations = relevant_steps_sorted[relevant_steps_sorted[\"process_step\"] == end_step]\n",
    "    \n",
    "    # Calculate the mean duration from start_step to end_step\n",
    "    test_mean_duration = end_step_durations[\"time_diff\"].mean()\n",
    "    \n",
    "    # Format the mean duration string to include minutes, and seconds\n",
    "    test_mean_duration_str = f\"{test_mean_duration.components.minutes}m {test_mean_duration.components.seconds}s\"\n",
    "    \n",
    "    # Store the result in the dictionary keyed by the step pair\n",
    "    test_durations[(start_step, end_step)] = test_mean_duration_str\n",
    "    \n",
    "    # Add the mean duration to the total duration\n",
    "    test_total_duration += test_mean_duration\n",
    "\n",
    "    print(f\"{start_step} to {end_step}: {test_mean_duration_str}\")\n",
    "\n",
    "# Format the total duration string to include minutes, and seconds\n",
    "test_total_duration_str = f\"{test_total_duration.components.minutes}m {test_total_duration.components.seconds}s\"\n",
    "\n",
    "print(f\"Total duration for the whole journey: {test_total_duration_str}\")"
   ]
  },
  {
   "cell_type": "markdown",
   "id": "5fb8cd7d-aaf6-4dd1-b30a-1a4cb84ef3cd",
   "metadata": {},
   "source": [
    "## 3.1.3. error rates"
   ]
  },
  {
   "cell_type": "code",
   "execution_count": null,
   "id": "82779d99-7d53-4038-bd83-ef7f9e6c9f16",
   "metadata": {},
   "outputs": [],
   "source": [
    "# Sort by visit_id and date_time to ensure chronological order\n",
    "df_test_group = df_test_group.sort_values(by=[\"client_id\", \"visit_id\", \"date_time\"])\n",
    "\n",
    "# Assign step orders\n",
    "step_order = {\"start\": 0,\n",
    "              \"step_1\": 1,\n",
    "              \"step_2\": 2,\n",
    "              \"step_3\": 3,\n",
    "              \"confirm\": 4}\n",
    "\n",
    "# Detect backward movements\n",
    "df_test_group[\"step_order\"] = df_test_group[\"process_step\"].map(step_order)\n",
    "\n",
    "# Calculate the difference in step order to identify backward movements\n",
    "df_test_group[\"step_diff\"] = df_test_group.groupby([\"client_id\", \"visit_id\"])[\"step_order\"].diff()\n",
    "\n",
    "# A negative step_diff indicates a backward movement\n",
    "df_test_group[\"is_backward\"] = df_test_group[\"step_diff\"] < 0\n",
    "\n",
    "# Proportion of sessions with at least one backward movement\n",
    "error_sessions_test = df_test_group[df_test_group[\"is_backward\"]].groupby([\"client_id\", \"visit_id\"]).ngroups\n",
    "total_sessions_test = df_test_group.groupby([\"client_id\", \"visit_id\"]).ngroups\n",
    "test_error_rate = error_sessions_test / total_sessions_test\n",
    "\n",
    "print(f\"Proportion of Test group sessions with errors: {test_error_rate:.2%}\")\n",
    "\n",
    "# Count of backward movements by step\n",
    "errors_by_step = df_test_group[df_test_group[\"is_backward\"]][\"process_step\"].value_counts()\n",
    "errors_by_step"
   ]
  },
  {
   "cell_type": "markdown",
   "id": "40bc01ae-5636-4ced-ad1d-45829d589198",
   "metadata": {},
   "source": [
    "# 3.2. Control group: success indicators"
   ]
  },
  {
   "cell_type": "markdown",
   "id": "fb7e618d-f699-40bf-aa5a-758882c839a4",
   "metadata": {},
   "source": [
    "## 3.2.1. completion rate"
   ]
  },
  {
   "cell_type": "code",
   "execution_count": null,
   "id": "faa0c0be-d5fe-4e40-af69-910f983cbed9",
   "metadata": {},
   "outputs": [],
   "source": [
    "df_control_group = df_digital_footprint[df_digital_footprint[\"experiment_group\"] == \"Control\"]\n",
    "\n",
    "confirm_count_control = (df_control_group[\"process_step\"] == \"confirm\").sum()\n",
    "print(f\"Number of 'confirm' steps: {confirm_count_control}\")\n",
    "\n",
    "unique_visit_count_control = df_control_group[\"visit_id\"].nunique()\n",
    "print(f\"Number of unique visit_id: {unique_visit_count_control}\")\n",
    "\n",
    "completion_rate_control = confirm_count_control / unique_visit_count_control\n",
    "print(f\"The proportion of users who reach the final 'confirm' step: {completion_rate_control:.2%}\")"
   ]
  },
  {
   "cell_type": "markdown",
   "id": "89c8f506-ba1a-4510-bb83-b98659c0099b",
   "metadata": {},
   "source": [
    "## 3.2.2. time spent on each step"
   ]
  },
  {
   "cell_type": "code",
   "execution_count": null,
   "id": "bc3f738c-e27b-4393-8b66-988d4ba53812",
   "metadata": {},
   "outputs": [],
   "source": [
    "control_durations = {}\n",
    "control_total_duration = pd.Timedelta(0)\n",
    "\n",
    "step_pairs = [\n",
    "    (\"start\", \"step_1\"),\n",
    "    (\"step_1\", \"step_2\"),\n",
    "    (\"step_2\", \"step_3\"),\n",
    "    (\"step_3\", \"confirm\"),\n",
    "]\n",
    "\n",
    "for start_step, end_step in step_pairs:\n",
    "    \n",
    "    relevant_steps = df_control_group[df_control_group[\"process_step\"].isin([start_step, end_step])]\n",
    "    \n",
    "    relevant_steps_sorted = relevant_steps.sort_values(by=[\"visit_id\", \"date_time\"])\n",
    "    \n",
    "    # Calculate the time difference between steps for each visit_id\n",
    "    relevant_steps_sorted[\"time_diff\"] = relevant_steps_sorted.groupby(\"visit_id\")[\"date_time\"].diff()\n",
    "    \n",
    "    # Select end_step rows to use the calculated time differences as durations from start_step to end_step\n",
    "    end_step_durations = relevant_steps_sorted[relevant_steps_sorted[\"process_step\"] == end_step]\n",
    "    \n",
    "    # Calculate the mean duration from start_step to end_step\n",
    "    control_mean_duration = end_step_durations[\"time_diff\"].mean()\n",
    "    \n",
    "    # Format the mean duration string to include minutes, and seconds\n",
    "    control_mean_duration_str = f\"{control_mean_duration.components.minutes}m {control_mean_duration.components.seconds}s\"\n",
    "    \n",
    "    # Store the result in the dictionary keyed by the step pair\n",
    "    control_durations[(start_step, end_step)] = control_mean_duration_str\n",
    "    \n",
    "    # Add the mean duration to the total duration\n",
    "    control_total_duration += control_mean_duration\n",
    "\n",
    "    print(f\"{start_step} to {end_step}: {control_mean_duration_str}\")\n",
    "\n",
    "# Format the total duration string to include minutes, and seconds\n",
    "control_total_duration_str = f\"{control_total_duration.components.minutes}m {control_total_duration.components.seconds}s\"\n",
    "\n",
    "print(f\"Total duration for the whole journey: {control_total_duration_str}\")"
   ]
  },
  {
   "cell_type": "markdown",
   "id": "809ad1df-9147-4bb6-9f97-f24a37067c0d",
   "metadata": {},
   "source": [
    "## 3.2.3. error rates"
   ]
  },
  {
   "cell_type": "code",
   "execution_count": null,
   "id": "1f42d3c2-609a-4ecd-b7ed-285d81b06f2d",
   "metadata": {},
   "outputs": [],
   "source": [
    "# Sort by visit_id and date_time to ensure chronological order\n",
    "df_control_group = df_control_group.sort_values(by=[\"client_id\", \"visit_id\", \"date_time\"])\n",
    "\n",
    "# Assign step orders\n",
    "step_order = {\"start\": 0,\n",
    "               \"step_1\": 1,\n",
    "               \"step_2\": 2,\n",
    "               \"step_3\": 3,\n",
    "               \"confirm\": 4}\n",
    "\n",
    "# Detect backward movements\n",
    "df_control_group[\"step_order\"] = df_control_group[\"process_step\"].map(step_order)\n",
    "\n",
    "# Calculate the difference in step order to identify backward movements\n",
    "df_control_group[\"step_diff\"] = df_control_group.groupby([\"client_id\", \"visit_id\"])[\"step_order\"].diff()\n",
    "\n",
    "# A negative step_diff indicates a backward movement\n",
    "df_control_group[\"is_backward\"] = df_control_group[\"step_diff\"] < 0\n",
    "\n",
    "# Proportion of sessions with at least one backward movement\n",
    "error_sessions_control = df_control_group[df_control_group[\"is_backward\"]].groupby([\"client_id\", \"visit_id\"]).ngroups\n",
    "total_sessions_control = df_control_group.groupby([\"client_id\", \"visit_id\"]).ngroups\n",
    "control_error_rate = error_sessions_control / total_sessions_control\n",
    "\n",
    "print(f\"Proportion of Control group sessions with errors: {control_error_rate:.2%}\")\n",
    "\n",
    "# Count of backward movements by step\n",
    "errors_by_step = df_control_group[df_control_group[\"is_backward\"]][\"process_step\"].value_counts()\n",
    "errors_by_step"
   ]
  },
  {
   "cell_type": "markdown",
   "id": "5a03f402-93a4-41c7-8c36-8122a66dd278",
   "metadata": {},
   "source": [
    "# 3.3. Redesign outcome"
   ]
  },
  {
   "cell_type": "code",
   "execution_count": null,
   "id": "fdd696fb-3c44-48b8-97bb-9d0d59a380ab",
   "metadata": {},
   "outputs": [],
   "source": [
    "# Test group has higher completion rate\n",
    "print(f\"The proportion of Test group reaching the final 'confirm' step: {completion_rate_test:.2%}\")\n",
    "print(f\"The proportion of Control group reaching the 'confirm' step is: {completion_rate_control:.2%}\\n\")\n",
    "\n",
    "# Control group has lower average time spent between steps\n",
    "for start_step, end_step in step_pairs:\n",
    "    test_str = test_durations.get((start_step, end_step), \"No data\")\n",
    "    control_str = control_durations.get((start_step, end_step), \"No data\")\n",
    "    print(f\"Transition from '{start_step}' to '{end_step}':\")\n",
    "    print(f\"  Test group: {test_str}\")\n",
    "    print(f\"  Control g.: {control_str}\\n\")\n",
    "\n",
    "# Control group has lower proportion of sessions with errors.\n",
    "print(f\"Proportion of Test group sessions with errors: {test_error_rate:.2%}\")\n",
    "print(f\"Proportion of Control g. sessions with errors: {control_error_rate:.2%}\")"
   ]
  },
  {
   "cell_type": "code",
   "execution_count": null,
   "id": "f0454dc3-7495-4f38-b7da-ffb1d6488374",
   "metadata": {},
   "outputs": [],
   "source": [
    "completion_rates = {\"test\": completion_rate_test, \"control\": completion_rate_control}\n",
    "groups = list(completion_rates.keys())\n",
    "rates = [completion_rates[group] for group in groups]\n",
    "\n",
    "plt.figure(figsize=(8, 6))\n",
    "bar_positions = range(len(groups))\n",
    "colors = [\"darkorange\", \"royalblue\"]\n",
    "bar_width = 0.25\n",
    "plt.bar(bar_positions, rates, width=bar_width, color=colors, align='center')\n",
    "\n",
    "plt.xlabel(\"group\")\n",
    "plt.ylabel(\"completion rate\")\n",
    "plt.title(\"completion rates by group\")\n",
    "plt.xticks(bar_positions, groups)\n",
    "plt.ylim(0, max(rates) + 0.05)\n",
    "\n",
    "for i, rate in enumerate(rates):\n",
    "    plt.text(i, rate, f\"{rate:.2%}\", ha=\"center\", va=\"bottom\")\n",
    "\n",
    "plt.tight_layout()\n",
    "plt.savefig(\"completion rate by group.png\", dpi=300)\n",
    "plt.show()"
   ]
  },
  {
   "cell_type": "code",
   "execution_count": null,
   "id": "c319cf1a-6b8e-4eca-af29-7c64bb01357a",
   "metadata": {},
   "outputs": [],
   "source": [
    "test_total_minutes = test_total_duration.total_seconds() / 60\n",
    "control_total_minutes = control_total_duration.total_seconds() / 60\n",
    "\n",
    "test_duration_str = f\"{int(test_total_minutes)}m {int((test_total_minutes % 1) * 60)}s\"\n",
    "control_duration_str = f\"{int(control_total_minutes)}m {int((control_total_minutes % 1) * 60)}s\"\n",
    "\n",
    "groups = [\"test\", \"control\"]\n",
    "total_durations_minutes = [test_total_minutes, control_total_minutes]\n",
    "colors = [\"darkorange\", \"royalblue\"]\n",
    "\n",
    "fig, ax = plt.subplots(figsize=(8, 6))\n",
    "bars = ax.bar(groups, total_durations_minutes, color=colors, width=0.25)\n",
    "\n",
    "ax.set_ylabel(\"total duration (minutes)\")\n",
    "ax.set_title(\"total duration comparison between test and control groups\")\n",
    "\n",
    "for bar, duration_str in zip(bars, [test_duration_str, control_duration_str]):\n",
    "    ax.text(bar.get_x() + bar.get_width() / 2, bar.get_height(), duration_str, ha=\"center\", va=\"bottom\", fontsize=12, color=\"black\")\n",
    "\n",
    "plt.tight_layout()\n",
    "plt.show()"
   ]
  },
  {
   "cell_type": "code",
   "execution_count": null,
   "id": "a55c3f05-52ac-4895-acba-6d55dea4ddd6",
   "metadata": {},
   "outputs": [],
   "source": [
    "test_error_rate = error_sessions_test / total_sessions_test\n",
    "control_error_rate = error_sessions_control / total_sessions_control\n",
    "\n",
    "groups = [\"test\", \"control\"]\n",
    "error_rates = [test_error_rate, control_error_rate]\n",
    "colors = [\"darkorange\", \"royalblue\"]\n",
    "\n",
    "fig, ax = plt.subplots(figsize=(8, 6))\n",
    "bars = ax.bar(groups, error_rates, color=colors, width=0.4)\n",
    "\n",
    "ax.set_ylabel(\"error rate\")\n",
    "ax.set_title(\"error rate comparison between test and control groups\")\n",
    "\n",
    "for bar, rate in zip(bars, error_rates):\n",
    "    ax.text(bar.get_x() + bar.get_width() / 2, rate, f\"{rate:.2%}\", ha=\"center\", va=\"bottom\", fontsize=12, color=\"black\")\n",
    "\n",
    "plt.tight_layout()\n",
    "plt.show()"
   ]
  },
  {
   "cell_type": "markdown",
   "id": "6d466835-7c8d-41f5-8010-31c01118f6e1",
   "metadata": {},
   "source": [
    "# 4. Hypotheses testing"
   ]
  },
  {
   "cell_type": "markdown",
   "id": "ed0a20b7-26c5-4923-bfd7-acb34684d2c9",
   "metadata": {},
   "source": [
    "## 4.1. completion rate\n",
    "Test group had a higher completion rate compared to the Control group.\\\n",
    "H0: This difference is not statistically significant.\\\n",
    "H1: The difference is statistically significant."
   ]
  },
  {
   "cell_type": "code",
   "execution_count": null,
   "id": "67209c0b-79d5-47cb-913f-129d96b7ae17",
   "metadata": {},
   "outputs": [],
   "source": [
    "# Completion rates and number of observations\n",
    "x1, x2 = confirm_count_test, confirm_count_control\n",
    "n1, n2 = unique_visit_count_test, unique_visit_count_control\n",
    "\n",
    "# Part 1: Two-sided test for completion rate comparison\n",
    "stat, pval = proportions_ztest([x1, x2], [n1, n2], alternative=\"two-sided\")\n",
    "print(\"Part 1 - Completion Rate Comparison\")\n",
    "print(f\"Z-statistic: {stat:.2f}, P-value: {pval:.4f}\")\n",
    "\n",
    "# Interpretation\n",
    "alpha = 0.05\n",
    "if pval < alpha:\n",
    "    print(\"Reject H0: Significant difference in completion rates between the Test and Control groups.\")\n",
    "else:\n",
    "    print(\"Fail to reject H0: No significant difference in completion rates.\")\n",
    "\n",
    "# Part 2: One-sided test for comparing against Control + 5%\n",
    "# Adjusted completion rate for Control by adding 5%\n",
    "control_completion_rate_adjusted = (x2 + 0.05 * n2) / n2\n",
    "\n",
    "# Comparing Test completion rate directly to adjusted Control rate\n",
    "print(\"\\nPart 2 - Completion Rate with Cost-Effectiveness Threshold\")\n",
    "completion_rate_test = x1 / n1\n",
    "if completion_rate_test > control_completion_rate_adjusted and pval < alpha:\n",
    "    print(f\"Reject H0: Test group's completion rate exceeds Control's by >5%, indicating cost-effectiveness.\")\n",
    "else:\n",
    "    print(\"Fail to reject H0: Test group's completion rate does not exceed Control's by >5%, indicating lack of cost-effectiveness.\")"
   ]
  },
  {
   "cell_type": "markdown",
   "id": "928b7cae-0145-4a05-afab-55626909096a",
   "metadata": {},
   "source": [
    "# 4.2. error rate\n",
    "Test group had a higher error rate 26,8% compared to the Control group 20.22%.\\\n",
    "H0: This difference is not statistically significant.\\\n",
    "H1: The difference is statistically significant."
   ]
  },
  {
   "cell_type": "code",
   "execution_count": null,
   "id": "fca45cd4-0e9a-49fc-8927-2b6131707b6e",
   "metadata": {},
   "outputs": [],
   "source": [
    "# Calculate error rates and number of observations\n",
    "x1, x2 = error_sessions_test, error_sessions_control\n",
    "n1, n2 = total_sessions_test, total_sessions_control\n",
    "\n",
    "# Two-sided test for error rate comparison\n",
    "stat, pval = proportions_ztest([x1, x2], [n1, n2], alternative='two-sided')\n",
    "print(\"Error Rate Comparison Between Test and Control Groups\")\n",
    "print(f\"Z-statistic: {stat:.2f}, P-value: {pval:.4f}\")\n",
    "\n",
    "# Interpretation\n",
    "alpha = 0.05\n",
    "if pval < alpha:\n",
    "    print(\"Reject H0: Significant difference in error rates between the Test and Control groups.\")\n",
    "else:\n",
    "    print(\"Fail to reject H0: No significant difference in error rates.\")"
   ]
  },
  {
   "cell_type": "markdown",
   "id": "2f63fe77-76d1-4b00-aa7d-67b3afbf462a",
   "metadata": {},
   "source": [
    "## 4.3. t-test of various means between the groups"
   ]
  },
  {
   "cell_type": "code",
   "execution_count": null,
   "id": "b2590b8c-116c-451b-8f75-e0fd4346d4bc",
   "metadata": {},
   "outputs": [],
   "source": [
    "def compare_groups(df, column_name, group_col=\"experiment_group\", test_label=\"Test\", control_label=\"Control\"):\n",
    "    # Data filtering\n",
    "    test_group = df[df[group_col] == test_label][column_name]\n",
    "    control_group = df[df[group_col] == control_label][column_name]\n",
    "    \n",
    "    # Calculate means\n",
    "    test_mean = test_group.mean()\n",
    "    control_mean = control_group.mean()\n",
    "    \n",
    "    # Perform t-test\n",
    "    stat, p = ttest_ind(test_group, control_group)\n",
    "    \n",
    "    # Print results\n",
    "    print(f\"\\nComparison based on {column_name}:\")\n",
    "    print(f\"The average {column_name} of the Test users: {test_mean:.3f}\")\n",
    "    print(f\"The average {column_name} of the Control users: {control_mean:.3f}\")\n",
    "    print(f\"{column_name.capitalize()} comparison between groups - T-statistic: {stat:.3f}, P-value: {p:.3f}\")\n",
    "    \n",
    "    # Interpretation\n",
    "    if p < 0.05:\n",
    "        print(f\"With the P-value {p:.3f}, we reject the H0.\")\n",
    "        print(f\"The average {column_name} of Test group users is significantly different than that of Control group.\\n\")\n",
    "    else:\n",
    "        print(f\"With the P-value {p:.3f}, we fail to reject the H0.\")\n",
    "        print(f\"The average {column_name} of Test group users is not significantly different than that of Control group.\\n\")\n",
    "\n",
    "# Example usage\n",
    "compare_groups(df_client_profiles, \"client_age\")\n",
    "compare_groups(df_client_profiles, \"client_tenure_in_years\")\n",
    "compare_groups(df_client_profiles, \"number_of_accounts\")\n",
    "compare_groups(df_client_profiles, \"balance\")\n",
    "compare_groups(df_client_profiles, \"calls_per_year\")\n",
    "compare_groups(df_client_profiles, \"logons_per_year\")"
   ]
  },
  {
   "cell_type": "markdown",
   "id": "a6b9b56e-01bd-417c-a2df-7c6a6f39f736",
   "metadata": {},
   "source": [
    "# 5. Experiment evaluation"
   ]
  },
  {
   "cell_type": "code",
   "execution_count": null,
   "id": "48b93a29-85b5-4b25-b0b7-2e4ff980a840",
   "metadata": {},
   "outputs": [],
   "source": [
    "# There's 23% difference in size between the experiment groups, which seems a bit off-balance.\n",
    "# The experiment duration of 97 days seems sufficient.\n",
    "\n",
    "print(f\"Test group's number of visits: {unique_visit_count_test}\")\n",
    "print(f\"Control group's number of visits: {unique_visit_count_control}\")\n",
    "balance = abs(unique_visit_count_test - unique_visit_count_control) / ((unique_visit_count_test + unique_visit_count_control) / 2)\n",
    "print(f\"Balance between groups: {balance:.2f}\\n\")\n",
    "\n",
    "experiment_start = df_digital_footprint['date_time'].min()\n",
    "experiment_end = df_digital_footprint['date_time'].max()\n",
    "experiment_duration = experiment_end - experiment_start\n",
    "\n",
    "print(f\"Experiment duration: {experiment_duration.days} days\")"
   ]
  },
  {
   "cell_type": "code",
   "execution_count": null,
   "id": "fee5387b-35f7-43b6-a590-fe755ce5a926",
   "metadata": {},
   "outputs": [],
   "source": [
    "df_digital_footprint.to_csv(\"/Users/milenko/My Drive (1307mile@gmail.com)/bootcamp/w5/w5w6_project2/data/final_for_tableau/df_digital_footprint_final_for_tableau.csv\", index=False)"
   ]
  }
 ],
 "metadata": {
  "kernelspec": {
   "display_name": "Python 3 (ipykernel)",
   "language": "python",
   "name": "python3"
  },
  "language_info": {
   "codemirror_mode": {
    "name": "ipython",
    "version": 3
   },
   "file_extension": ".py",
   "mimetype": "text/x-python",
   "name": "python",
   "nbconvert_exporter": "python",
   "pygments_lexer": "ipython3",
   "version": "3.11.8"
  }
 },
 "nbformat": 4,
 "nbformat_minor": 5
}
