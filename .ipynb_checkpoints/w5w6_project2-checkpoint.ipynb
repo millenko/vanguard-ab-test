{
 "cells": [
  {
   "cell_type": "code",
   "execution_count": 1,
   "id": "fddf1d8f-7122-4508-be21-7881f077bfca",
   "metadata": {},
   "outputs": [],
   "source": [
    "import pandas as pd\n",
    "import matplotlib.pyplot as plt\n",
    "import seaborn as sns\n",
    "import numpy as np\n",
    "\n",
    "%matplotlib inline"
   ]
  },
  {
   "cell_type": "code",
   "execution_count": 13,
   "id": "ceb848e6-28ae-4c3c-885f-c32b23bc564e",
   "metadata": {},
   "outputs": [],
   "source": [
    "# Loaded the dataset, and concatenated the 2-part digital_footprint file.\n",
    "df_client_profiles = pd.read_csv(\"/Users/milenko/My Drive (1307mile@gmail.com)/bootcamp/w5/w5w6_project2/data/df_final_demo.txt\")\n",
    "\n",
    "df_digital_footprint_1 = pd.read_csv(\"/Users/milenko/My Drive (1307mile@gmail.com)/bootcamp/w5/w5w6_project2/data/df_final_web_data_pt_1.txt\")\n",
    "df_digital_footprint_2 = pd.read_csv(\"/Users/milenko/My Drive (1307mile@gmail.com)/bootcamp/w5/w5w6_project2/data/df_final_web_data_pt_2.txt\")\n",
    "df_digital_footprint = pd.concat([df_digital_footprint_1, df_digital_footprint_2], axis=0, ignore_index=True)\n",
    "\n",
    "df_experiment_roster = pd.read_csv(\"/Users/milenko/My Drive (1307mile@gmail.com)/bootcamp/w5/w5w6_project2/data/df_final_experiment_clients.txt\")"
   ]
  },
  {
   "cell_type": "markdown",
   "id": "39a486c3-9ca1-4d84-b6f3-307fd4f189fe",
   "metadata": {},
   "source": [
    "# Understanding the data"
   ]
  },
  {
   "cell_type": "markdown",
   "id": "c29defc5-0676-431b-aa55-67c640111586",
   "metadata": {},
   "source": [
    "# Cleaning Data"
   ]
  },
  {
   "cell_type": "code",
   "execution_count": 14,
   "id": "7ff1dc34-7662-447d-9e79-7014ca00d2b8",
   "metadata": {},
   "outputs": [
    {
     "data": {
      "text/html": [
       "<div>\n",
       "<style scoped>\n",
       "    .dataframe tbody tr th:only-of-type {\n",
       "        vertical-align: middle;\n",
       "    }\n",
       "\n",
       "    .dataframe tbody tr th {\n",
       "        vertical-align: top;\n",
       "    }\n",
       "\n",
       "    .dataframe thead th {\n",
       "        text-align: right;\n",
       "    }\n",
       "</style>\n",
       "<table border=\"1\" class=\"dataframe\">\n",
       "  <thead>\n",
       "    <tr style=\"text-align: right;\">\n",
       "      <th></th>\n",
       "      <th>client_id</th>\n",
       "      <th>clnt_tenure_yr</th>\n",
       "      <th>clnt_tenure_mnth</th>\n",
       "      <th>clnt_age</th>\n",
       "      <th>gendr</th>\n",
       "      <th>num_accts</th>\n",
       "      <th>bal</th>\n",
       "      <th>calls_6_mnth</th>\n",
       "      <th>logons_6_mnth</th>\n",
       "    </tr>\n",
       "  </thead>\n",
       "  <tbody>\n",
       "    <tr>\n",
       "      <th>0</th>\n",
       "      <td>836976</td>\n",
       "      <td>6.0</td>\n",
       "      <td>73.0</td>\n",
       "      <td>60.5</td>\n",
       "      <td>U</td>\n",
       "      <td>2.0</td>\n",
       "      <td>45105.30</td>\n",
       "      <td>6.0</td>\n",
       "      <td>9.0</td>\n",
       "    </tr>\n",
       "    <tr>\n",
       "      <th>1</th>\n",
       "      <td>2304905</td>\n",
       "      <td>7.0</td>\n",
       "      <td>94.0</td>\n",
       "      <td>58.0</td>\n",
       "      <td>U</td>\n",
       "      <td>2.0</td>\n",
       "      <td>110860.30</td>\n",
       "      <td>6.0</td>\n",
       "      <td>9.0</td>\n",
       "    </tr>\n",
       "    <tr>\n",
       "      <th>2</th>\n",
       "      <td>1439522</td>\n",
       "      <td>5.0</td>\n",
       "      <td>64.0</td>\n",
       "      <td>32.0</td>\n",
       "      <td>U</td>\n",
       "      <td>2.0</td>\n",
       "      <td>52467.79</td>\n",
       "      <td>6.0</td>\n",
       "      <td>9.0</td>\n",
       "    </tr>\n",
       "    <tr>\n",
       "      <th>3</th>\n",
       "      <td>1562045</td>\n",
       "      <td>16.0</td>\n",
       "      <td>198.0</td>\n",
       "      <td>49.0</td>\n",
       "      <td>M</td>\n",
       "      <td>2.0</td>\n",
       "      <td>67454.65</td>\n",
       "      <td>3.0</td>\n",
       "      <td>6.0</td>\n",
       "    </tr>\n",
       "    <tr>\n",
       "      <th>4</th>\n",
       "      <td>5126305</td>\n",
       "      <td>12.0</td>\n",
       "      <td>145.0</td>\n",
       "      <td>33.0</td>\n",
       "      <td>F</td>\n",
       "      <td>2.0</td>\n",
       "      <td>103671.75</td>\n",
       "      <td>0.0</td>\n",
       "      <td>3.0</td>\n",
       "    </tr>\n",
       "    <tr>\n",
       "      <th>...</th>\n",
       "      <td>...</td>\n",
       "      <td>...</td>\n",
       "      <td>...</td>\n",
       "      <td>...</td>\n",
       "      <td>...</td>\n",
       "      <td>...</td>\n",
       "      <td>...</td>\n",
       "      <td>...</td>\n",
       "      <td>...</td>\n",
       "    </tr>\n",
       "    <tr>\n",
       "      <th>70604</th>\n",
       "      <td>7993686</td>\n",
       "      <td>4.0</td>\n",
       "      <td>56.0</td>\n",
       "      <td>38.5</td>\n",
       "      <td>U</td>\n",
       "      <td>3.0</td>\n",
       "      <td>1411062.68</td>\n",
       "      <td>5.0</td>\n",
       "      <td>5.0</td>\n",
       "    </tr>\n",
       "    <tr>\n",
       "      <th>70605</th>\n",
       "      <td>8981690</td>\n",
       "      <td>12.0</td>\n",
       "      <td>148.0</td>\n",
       "      <td>31.0</td>\n",
       "      <td>M</td>\n",
       "      <td>2.0</td>\n",
       "      <td>101867.07</td>\n",
       "      <td>6.0</td>\n",
       "      <td>6.0</td>\n",
       "    </tr>\n",
       "    <tr>\n",
       "      <th>70606</th>\n",
       "      <td>333913</td>\n",
       "      <td>16.0</td>\n",
       "      <td>198.0</td>\n",
       "      <td>61.5</td>\n",
       "      <td>F</td>\n",
       "      <td>2.0</td>\n",
       "      <td>40745.00</td>\n",
       "      <td>3.0</td>\n",
       "      <td>3.0</td>\n",
       "    </tr>\n",
       "    <tr>\n",
       "      <th>70607</th>\n",
       "      <td>1573142</td>\n",
       "      <td>21.0</td>\n",
       "      <td>255.0</td>\n",
       "      <td>68.0</td>\n",
       "      <td>M</td>\n",
       "      <td>3.0</td>\n",
       "      <td>475114.69</td>\n",
       "      <td>4.0</td>\n",
       "      <td>4.0</td>\n",
       "    </tr>\n",
       "    <tr>\n",
       "      <th>70608</th>\n",
       "      <td>5602139</td>\n",
       "      <td>21.0</td>\n",
       "      <td>254.0</td>\n",
       "      <td>59.5</td>\n",
       "      <td>F</td>\n",
       "      <td>3.0</td>\n",
       "      <td>157498.73</td>\n",
       "      <td>7.0</td>\n",
       "      <td>7.0</td>\n",
       "    </tr>\n",
       "  </tbody>\n",
       "</table>\n",
       "<p>70609 rows × 9 columns</p>\n",
       "</div>"
      ],
      "text/plain": [
       "       client_id  clnt_tenure_yr  clnt_tenure_mnth  clnt_age gendr  num_accts  \\\n",
       "0         836976             6.0              73.0      60.5     U        2.0   \n",
       "1        2304905             7.0              94.0      58.0     U        2.0   \n",
       "2        1439522             5.0              64.0      32.0     U        2.0   \n",
       "3        1562045            16.0             198.0      49.0     M        2.0   \n",
       "4        5126305            12.0             145.0      33.0     F        2.0   \n",
       "...          ...             ...               ...       ...   ...        ...   \n",
       "70604    7993686             4.0              56.0      38.5     U        3.0   \n",
       "70605    8981690            12.0             148.0      31.0     M        2.0   \n",
       "70606     333913            16.0             198.0      61.5     F        2.0   \n",
       "70607    1573142            21.0             255.0      68.0     M        3.0   \n",
       "70608    5602139            21.0             254.0      59.5     F        3.0   \n",
       "\n",
       "              bal  calls_6_mnth  logons_6_mnth  \n",
       "0        45105.30           6.0            9.0  \n",
       "1       110860.30           6.0            9.0  \n",
       "2        52467.79           6.0            9.0  \n",
       "3        67454.65           3.0            6.0  \n",
       "4       103671.75           0.0            3.0  \n",
       "...           ...           ...            ...  \n",
       "70604  1411062.68           5.0            5.0  \n",
       "70605   101867.07           6.0            6.0  \n",
       "70606    40745.00           3.0            3.0  \n",
       "70607   475114.69           4.0            4.0  \n",
       "70608   157498.73           7.0            7.0  \n",
       "\n",
       "[70609 rows x 9 columns]"
      ]
     },
     "execution_count": 14,
     "metadata": {},
     "output_type": "execute_result"
    }
   ],
   "source": [
    "df_client_profiles"
   ]
  },
  {
   "cell_type": "code",
   "execution_count": 4,
   "id": "b451bb17-fc18-4af4-8179-8a2c4de319b6",
   "metadata": {},
   "outputs": [
    {
     "name": "stdout",
     "output_type": "stream",
     "text": [
      "<class 'pandas.core.frame.DataFrame'>\n",
      "RangeIndex: 70609 entries, 0 to 70608\n",
      "Data columns (total 9 columns):\n",
      " #   Column            Non-Null Count  Dtype  \n",
      "---  ------            --------------  -----  \n",
      " 0   client_id         70609 non-null  int64  \n",
      " 1   clnt_tenure_yr    70595 non-null  float64\n",
      " 2   clnt_tenure_mnth  70595 non-null  float64\n",
      " 3   clnt_age          70594 non-null  float64\n",
      " 4   gendr             70595 non-null  object \n",
      " 5   num_accts         70595 non-null  float64\n",
      " 6   bal               70595 non-null  float64\n",
      " 7   calls_6_mnth      70595 non-null  float64\n",
      " 8   logons_6_mnth     70595 non-null  float64\n",
      "dtypes: float64(7), int64(1), object(1)\n",
      "memory usage: 4.8+ MB\n"
     ]
    }
   ],
   "source": [
    "df_client_profiles.info()"
   ]
  },
  {
   "cell_type": "markdown",
   "id": "8b5fd226-05e0-4c3d-9373-c4d69f724d44",
   "metadata": {},
   "source": [
    "Considering the nature of data in the columns ['clnt_tenure_yr', 'clnt_tenure_mnth', 'clnt_age', 'num_accts', 'calls_6_mnth', 'logons_6_mnth'], \n",
    "they should be converted to int64 Dtype.\\\n",
    "To avoid conversion issues, the dataframe should be first cleaned of null values."
   ]
  },
  {
   "cell_type": "code",
   "execution_count": 5,
   "id": "add02ac4-6951-4c4f-9523-76cf8ab42e8a",
   "metadata": {},
   "outputs": [
    {
     "name": "stdout",
     "output_type": "stream",
     "text": [
      "\n",
      "The shape of the dataframe after dropping null values: (70594, 9) \n",
      "\n"
     ]
    },
    {
     "data": {
      "text/plain": [
       "client_id           0\n",
       "clnt_tenure_yr      0\n",
       "clnt_tenure_mnth    0\n",
       "clnt_age            0\n",
       "gendr               0\n",
       "num_accts           0\n",
       "bal                 0\n",
       "calls_6_mnth        0\n",
       "logons_6_mnth       0\n",
       "dtype: int64"
      ]
     },
     "execution_count": 5,
     "metadata": {},
     "output_type": "execute_result"
    }
   ],
   "source": [
    "df_client_profiles = df_client_profiles.dropna(thresh=9)\n",
    "\n",
    "print(\"\\nThe shape of the dataframe after dropping null values:\", df_client_profiles.shape, \"\\n\")\n",
    "\n",
    "df_client_profiles.isnull().sum()"
   ]
  },
  {
   "cell_type": "code",
   "execution_count": 6,
   "id": "50a67eae-1298-4e68-9a63-6a9c42619c54",
   "metadata": {},
   "outputs": [],
   "source": [
    "# Cleaned from null values. Columns to convert to integer type\n",
    "int_columns = ['clnt_tenure_yr', 'clnt_tenure_mnth', 'clnt_age', 'num_accts', 'calls_6_mnth', 'logons_6_mnth']\n",
    "\n",
    "for col in int_columns:\n",
    "    df_client_profiles.loc[:, col] = df_client_profiles[col].astype(int)"
   ]
  },
  {
   "cell_type": "code",
   "execution_count": 7,
   "id": "b839953d-85c0-4f60-9385-b30d3afc3352",
   "metadata": {},
   "outputs": [
    {
     "data": {
      "text/plain": [
       "0"
      ]
     },
     "execution_count": 7,
     "metadata": {},
     "output_type": "execute_result"
    }
   ],
   "source": [
    "# Checked for duplicated rows. There are none.\n",
    "df_client_profiles.duplicated().sum()"
   ]
  },
  {
   "cell_type": "code",
   "execution_count": 8,
   "id": "0533b68e-ee4e-45b0-8d8c-a94a3d837502",
   "metadata": {},
   "outputs": [],
   "source": [
    "# Renamed columns for clarity.\n",
    "df_client_profiles = df_client_profiles.rename(columns= {\n",
    "    'clnt_tenure_yr': 'client_tenure_in_years', \n",
    "    'clnt_tenure_mnth': 'client_tenure_in_months', \n",
    "    'clnt_age': 'client_age', \n",
    "    'gendr': 'gender', \n",
    "    'num_accts': 'number_of_accounts', \n",
    "    'bal': 'balance',\n",
    "    'calls_6_mnth': 'calls_6_months',\n",
    "    'logons_6_mnth': 'logons_6_months'})"
   ]
  },
  {
   "cell_type": "code",
   "execution_count": 9,
   "id": "78aba0b6-3044-4b6e-864c-52336ce24cf4",
   "metadata": {},
   "outputs": [],
   "source": [
    "# Transformed 2 columns from giving 6-monthly to annual values.\n",
    "df_client_profiles[['calls_6_months', 'logons_6_months']] = df_client_profiles[['calls_6_months', 'logons_6_months']].apply(lambda x: x * 2)\n",
    "\n",
    "df_client_profiles.rename(columns= {'calls_6_months': 'calls_per_year', 'logons_6_months': 'logons_per_year'}, inplace=True)"
   ]
  },
  {
   "cell_type": "markdown",
   "id": "5cb95092-5eb3-4df0-b09e-fb2a46dac2aa",
   "metadata": {},
   "source": [
    "# Client behaviour analysis\n",
    "- Who are the primary clients using this online process?\n",
    "- Are the primary clients younger or older, new or long-standing?"
   ]
  },
  {
   "cell_type": "code",
   "execution_count": 10,
   "id": "d539bdcf-e135-4396-8d42-e326138f9b4d",
   "metadata": {},
   "outputs": [
    {
     "data": {
      "text/html": [
       "<div>\n",
       "<style scoped>\n",
       "    .dataframe tbody tr th:only-of-type {\n",
       "        vertical-align: middle;\n",
       "    }\n",
       "\n",
       "    .dataframe tbody tr th {\n",
       "        vertical-align: top;\n",
       "    }\n",
       "\n",
       "    .dataframe thead th {\n",
       "        text-align: right;\n",
       "    }\n",
       "</style>\n",
       "<table border=\"1\" class=\"dataframe\">\n",
       "  <thead>\n",
       "    <tr style=\"text-align: right;\">\n",
       "      <th></th>\n",
       "      <th>client_id</th>\n",
       "      <th>client_tenure_in_years</th>\n",
       "      <th>client_tenure_in_months</th>\n",
       "      <th>client_age</th>\n",
       "      <th>number_of_accounts</th>\n",
       "      <th>balance</th>\n",
       "      <th>calls_per_year</th>\n",
       "      <th>logons_per_year</th>\n",
       "    </tr>\n",
       "  </thead>\n",
       "  <tbody>\n",
       "    <tr>\n",
       "      <th>count</th>\n",
       "      <td>7.059400e+04</td>\n",
       "      <td>70594.000000</td>\n",
       "      <td>70594.000000</td>\n",
       "      <td>70594.000000</td>\n",
       "      <td>70594.000000</td>\n",
       "      <td>7.059400e+04</td>\n",
       "      <td>70594.000000</td>\n",
       "      <td>70594.000000</td>\n",
       "    </tr>\n",
       "    <tr>\n",
       "      <th>mean</th>\n",
       "      <td>5.005026e+06</td>\n",
       "      <td>12.053007</td>\n",
       "      <td>150.659999</td>\n",
       "      <td>46.180426</td>\n",
       "      <td>2.255532</td>\n",
       "      <td>1.474467e+05</td>\n",
       "      <td>6.764938</td>\n",
       "      <td>11.133439</td>\n",
       "    </tr>\n",
       "    <tr>\n",
       "      <th>std</th>\n",
       "      <td>2.877289e+06</td>\n",
       "      <td>6.871850</td>\n",
       "      <td>82.090264</td>\n",
       "      <td>15.600390</td>\n",
       "      <td>0.535000</td>\n",
       "      <td>3.015106e+05</td>\n",
       "      <td>4.473190</td>\n",
       "      <td>4.706592</td>\n",
       "    </tr>\n",
       "    <tr>\n",
       "      <th>min</th>\n",
       "      <td>1.690000e+02</td>\n",
       "      <td>2.000000</td>\n",
       "      <td>33.000000</td>\n",
       "      <td>13.000000</td>\n",
       "      <td>1.000000</td>\n",
       "      <td>1.378942e+04</td>\n",
       "      <td>0.000000</td>\n",
       "      <td>2.000000</td>\n",
       "    </tr>\n",
       "    <tr>\n",
       "      <th>25%</th>\n",
       "      <td>2.519543e+06</td>\n",
       "      <td>6.000000</td>\n",
       "      <td>82.000000</td>\n",
       "      <td>32.000000</td>\n",
       "      <td>2.000000</td>\n",
       "      <td>3.734660e+04</td>\n",
       "      <td>2.000000</td>\n",
       "      <td>8.000000</td>\n",
       "    </tr>\n",
       "    <tr>\n",
       "      <th>50%</th>\n",
       "      <td>5.016974e+06</td>\n",
       "      <td>11.000000</td>\n",
       "      <td>136.000000</td>\n",
       "      <td>47.000000</td>\n",
       "      <td>2.000000</td>\n",
       "      <td>6.333459e+04</td>\n",
       "      <td>6.000000</td>\n",
       "      <td>10.000000</td>\n",
       "    </tr>\n",
       "    <tr>\n",
       "      <th>75%</th>\n",
       "      <td>7.483074e+06</td>\n",
       "      <td>16.000000</td>\n",
       "      <td>192.000000</td>\n",
       "      <td>59.000000</td>\n",
       "      <td>2.000000</td>\n",
       "      <td>1.375461e+05</td>\n",
       "      <td>12.000000</td>\n",
       "      <td>14.000000</td>\n",
       "    </tr>\n",
       "    <tr>\n",
       "      <th>max</th>\n",
       "      <td>9.999839e+06</td>\n",
       "      <td>62.000000</td>\n",
       "      <td>749.000000</td>\n",
       "      <td>96.000000</td>\n",
       "      <td>8.000000</td>\n",
       "      <td>1.632004e+07</td>\n",
       "      <td>14.000000</td>\n",
       "      <td>18.000000</td>\n",
       "    </tr>\n",
       "  </tbody>\n",
       "</table>\n",
       "</div>"
      ],
      "text/plain": [
       "          client_id  client_tenure_in_years  client_tenure_in_months  \\\n",
       "count  7.059400e+04            70594.000000             70594.000000   \n",
       "mean   5.005026e+06               12.053007               150.659999   \n",
       "std    2.877289e+06                6.871850                82.090264   \n",
       "min    1.690000e+02                2.000000                33.000000   \n",
       "25%    2.519543e+06                6.000000                82.000000   \n",
       "50%    5.016974e+06               11.000000               136.000000   \n",
       "75%    7.483074e+06               16.000000               192.000000   \n",
       "max    9.999839e+06               62.000000               749.000000   \n",
       "\n",
       "         client_age  number_of_accounts       balance  calls_per_year  \\\n",
       "count  70594.000000        70594.000000  7.059400e+04    70594.000000   \n",
       "mean      46.180426            2.255532  1.474467e+05        6.764938   \n",
       "std       15.600390            0.535000  3.015106e+05        4.473190   \n",
       "min       13.000000            1.000000  1.378942e+04        0.000000   \n",
       "25%       32.000000            2.000000  3.734660e+04        2.000000   \n",
       "50%       47.000000            2.000000  6.333459e+04        6.000000   \n",
       "75%       59.000000            2.000000  1.375461e+05       12.000000   \n",
       "max       96.000000            8.000000  1.632004e+07       14.000000   \n",
       "\n",
       "       logons_per_year  \n",
       "count     70594.000000  \n",
       "mean         11.133439  \n",
       "std           4.706592  \n",
       "min           2.000000  \n",
       "25%           8.000000  \n",
       "50%          10.000000  \n",
       "75%          14.000000  \n",
       "max          18.000000  "
      ]
     },
     "execution_count": 10,
     "metadata": {},
     "output_type": "execute_result"
    }
   ],
   "source": [
    "df_client_profiles.describe()"
   ]
  },
  {
   "cell_type": "code",
   "execution_count": 11,
   "id": "77e287b8-234f-484b-a0b9-70bc0f8f53be",
   "metadata": {},
   "outputs": [
    {
     "data": {
      "text/html": [
       "<div>\n",
       "<style scoped>\n",
       "    .dataframe tbody tr th:only-of-type {\n",
       "        vertical-align: middle;\n",
       "    }\n",
       "\n",
       "    .dataframe tbody tr th {\n",
       "        vertical-align: top;\n",
       "    }\n",
       "\n",
       "    .dataframe thead th {\n",
       "        text-align: right;\n",
       "    }\n",
       "</style>\n",
       "<table border=\"1\" class=\"dataframe\">\n",
       "  <thead>\n",
       "    <tr style=\"text-align: right;\">\n",
       "      <th></th>\n",
       "      <th>gender</th>\n",
       "    </tr>\n",
       "  </thead>\n",
       "  <tbody>\n",
       "    <tr>\n",
       "      <th>count</th>\n",
       "      <td>70594</td>\n",
       "    </tr>\n",
       "    <tr>\n",
       "      <th>unique</th>\n",
       "      <td>4</td>\n",
       "    </tr>\n",
       "    <tr>\n",
       "      <th>top</th>\n",
       "      <td>U</td>\n",
       "    </tr>\n",
       "    <tr>\n",
       "      <th>freq</th>\n",
       "      <td>24122</td>\n",
       "    </tr>\n",
       "  </tbody>\n",
       "</table>\n",
       "</div>"
      ],
      "text/plain": [
       "       gender\n",
       "count   70594\n",
       "unique      4\n",
       "top         U\n",
       "freq    24122"
      ]
     },
     "execution_count": 11,
     "metadata": {},
     "output_type": "execute_result"
    }
   ],
   "source": [
    "df_client_profiles.describe(include='object')"
   ]
  },
  {
   "cell_type": "markdown",
   "id": "0ac3b3ff-bb18-4461-a9b6-c31e5a89b981",
   "metadata": {},
   "source": [
    "Our primary clients on average is:\n",
    "- middle-aged: 46-years-old,\n",
    "- loyal: with us for 12 years,\n",
    "- which means they join us in their 30s,\n",
    "- unknown or undisclosed gender,\n",
    "- tech-oriented: 11 logons per year vs 7 calls,\n",
    "- holds 2 accounts,\n",
    "- with 147,446.7 on their balance."
   ]
  },
  {
   "cell_type": "markdown",
   "id": "5df7037e-a22c-4999-83bb-e61016b07174",
   "metadata": {},
   "source": [
    "# Who are the primary clients using this online process?"
   ]
  },
  {
   "cell_type": "code",
   "execution_count": 12,
   "id": "c6f4cb13-eb9e-49af-a85a-f0e9a87f29be",
   "metadata": {},
   "outputs": [
    {
     "ename": "NameError",
     "evalue": "name 'groupby' is not defined",
     "output_type": "error",
     "traceback": [
      "\u001b[0;31m---------------------------------------------------------------------------\u001b[0m",
      "\u001b[0;31mNameError\u001b[0m                                 Traceback (most recent call last)",
      "Cell \u001b[0;32mIn[12], line 1\u001b[0m\n\u001b[0;32m----> 1\u001b[0m \u001b[43mgroupby\u001b[49m[\u001b[38;5;124m'\u001b[39m\u001b[38;5;124mlogins_per_year\u001b[39m\u001b[38;5;124m'\u001b[39m]\n",
      "\u001b[0;31mNameError\u001b[0m: name 'groupby' is not defined"
     ]
    }
   ],
   "source": [
    "groupby['logins_per_year']"
   ]
  },
  {
   "cell_type": "markdown",
   "id": "0148c20c-bb9d-42c8-8aff-e4b4f0b96c8f",
   "metadata": {},
   "source": [
    "# Visualisations"
   ]
  }
 ],
 "metadata": {
  "kernelspec": {
   "display_name": "Python 3 (ipykernel)",
   "language": "python",
   "name": "python3"
  },
  "language_info": {
   "codemirror_mode": {
    "name": "ipython",
    "version": 3
   },
   "file_extension": ".py",
   "mimetype": "text/x-python",
   "name": "python",
   "nbconvert_exporter": "python",
   "pygments_lexer": "ipython3",
   "version": "3.11.8"
  }
 },
 "nbformat": 4,
 "nbformat_minor": 5
}
